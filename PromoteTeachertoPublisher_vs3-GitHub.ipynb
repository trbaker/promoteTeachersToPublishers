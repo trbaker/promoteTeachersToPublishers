{
 "cells": [
  {
   "cell_type": "markdown",
   "metadata": {},
   "source": [
    "# Update SSO-created teacher account\n",
    "\n",
    "As ArcGIS Online SSO assigns all new accounts to one role, this script can find certain  differences in usernames and then changes those users' roles. The use case that drove this script requested inbound teachers be promoted to publishers while students remained as users in the system.  Optionally, this script could be save to a .py file and set as a scheduled task.\n",
    "\n",
    "*****\n",
    "\n",
    "This script returns all the members of an organization and then filters out:\n",
    "1. non-SSO usernames (assumes SSO usernames must end with underscore subdomain)\n",
    "2. usernames older than 1 week \n",
    "3. usernames that don't contain six consecutive digits. This is a condition in this specific use case that differentiates student usernames from teacher usernames. You will need to change the regular expression used to differentiate between the teacher and student accounts in your situation.\n",
    "\n",
    "A teacher tag is added and qualifying username promoted to org_publisher.\n",
    "\n",
    "YOU SHOULD UPDATE LINES: 6, 12, 20(use your own regex)\n",
    "\n",
    "Script based on ArcGIS Online API for Python 1.5.1, Python 3.6, Anconda 4.4\n",
    "\n",
    "-trbaker/November 2018 "
   ]
  },
  {
   "cell_type": "code",
   "execution_count": null,
   "metadata": {
    "collapsed": true
   },
   "outputs": [],
   "source": [
    "# import libs and set vars\n",
    "from arcgis.gis import GIS\n",
    "import re\n",
    "import time\n",
    "\n",
    "gis = GIS(\"http://<your_org>.maps.arcgis.com\", \"<username>\", \"<password>\", verify_cert=False)\n",
    "gis_users = gis.users.search(query=\"\", max_users=5000, outside_org=0)\n",
    "newtags = ['teacher']\n",
    "\n",
    "for userB in gis_users:\n",
    "    # filter for SSO extension automatically added to usernames (e.g. janeSmith_KansasUniv)\n",
    "    if userB.username.find('_<your_org>') >=0: \n",
    "        now = time.time()\n",
    "        createSec=userB.created/1000  # var holds lastlogin in seconds (rather than milliseconds)\n",
    "        diffCreateSec = now-createSec # var holds difference between now and lastlogin in seconds.\n",
    "        diffCreateDays = diffCreateSec/(24*60*60)    #Last login in days (rounded)\n",
    "        # filter for  new users from the past week.\n",
    "        if round(diffCreateDays,2) < 7:\n",
    "            m=re.search('[0-9][0-9][0-9][0-9][0-9][0-9]', userB.username)\n",
    "            # filter for 6 integers in username. Teachers do not have 6 digits.\n",
    "            if not m:  #if username doesn't contain six digits, run \n",
    "                userB.tags = userB.tags + newtags\n",
    "                userB.update(tags=userB.tags)\n",
    "                userB.update_role(role='org_publisher')\n",
    "                print(userB.username + \" updated to: \" + userB.role)\n",
    "\n",
    "print(\"complete.\")"
   ]
  }
 ],
 "metadata": {
  "kernelspec": {
   "display_name": "Python 3",
   "language": "python",
   "name": "python3"
  },
  "language_info": {
   "codemirror_mode": {
    "name": "ipython",
    "version": 3
   },
   "file_extension": ".py",
   "mimetype": "text/x-python",
   "name": "python",
   "nbconvert_exporter": "python",
   "pygments_lexer": "ipython3",
   "version": "3.6.1"
  }
 },
 "nbformat": 4,
 "nbformat_minor": 2
}
